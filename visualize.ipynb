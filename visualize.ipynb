{
 "cells": [
  {
   "cell_type": "code",
   "execution_count": 10,
   "id": "67d16eaa-af8a-4bb4-a0c8-c718f535770f",
   "metadata": {},
   "outputs": [
    {
     "ename": "IndexError",
     "evalue": "list index out of range",
     "output_type": "error",
     "traceback": [
      "\u001b[0;31m---------------------------------------------------------------------------\u001b[0m",
      "\u001b[0;31mIndexError\u001b[0m                                Traceback (most recent call last)",
      "Cell \u001b[0;32mIn[10], line 19\u001b[0m\n\u001b[1;32m     16\u001b[0m     \u001b[38;5;28;01mreturn\u001b[39;00m file_list\n\u001b[1;32m     18\u001b[0m ecgo_x0_path \u001b[38;5;241m=\u001b[39m \u001b[38;5;124m\"\u001b[39m\u001b[38;5;124m\"\u001b[39m\n\u001b[0;32m---> 19\u001b[0m ecog_x0 \u001b[38;5;241m=\u001b[39m np\u001b[38;5;241m.\u001b[39mload(\u001b[43mscan_all_files\u001b[49m\u001b[43m(\u001b[49m\u001b[43mecgo_x0_path\u001b[49m\u001b[43m)\u001b[49m\u001b[43m[\u001b[49m\u001b[38;5;241;43m0\u001b[39;49m\u001b[43m]\u001b[49m)\n\u001b[1;32m     20\u001b[0m ecog_x1_path \u001b[38;5;241m=\u001b[39m \u001b[38;5;124m\"\u001b[39m\u001b[38;5;124m\"\u001b[39m\n\u001b[1;32m     21\u001b[0m ecog_x1 \u001b[38;5;241m=\u001b[39m np\u001b[38;5;241m.\u001b[39mload(scan_all_files(ecog_x1_path)[\u001b[38;5;241m0\u001b[39m])\n",
      "\u001b[0;31mIndexError\u001b[0m: list index out of range"
     ]
    }
   ],
   "source": [
    "import os\n",
    "import h5py\n",
    "import matplotlib.pyplot as plt\n",
    "import numpy as np\n",
    "import random\n",
    "\n",
    "\n",
    "def scan_all_files(directory, extension='.npy'):\n",
    "    file_list = []\n",
    "    for root, _, files in os.walk(directory):\n",
    "        for file in files:\n",
    "            if file.endswith(extension):\n",
    "                file_list.append(os.path.join(root, file))\n",
    "    random.shuffle(file_list)\n",
    "\n",
    "    return file_list\n",
    "\n",
    "ecgo_x0_path = \"\"\n",
    "ecog_x0 = np.load(scan_all_files(ecgo_x0_path)[0])\n",
    "ecog_x1_path = \"\"\n",
    "ecog_x1 = np.load(scan_all_files(ecog_x1_path)[0])\n",
    "\n",
    "num_time_series, num_time_points = ecog_x0.shape\n",
    "colors = np.random.rand(num_time_series, 3)  # RGB values ranging from 0 to 1\n",
    "time = range(num_time_points)\n",
    "\n",
    "# Create and plot the first four time series\n",
    "plt.figure(figsize=(8, 4))\n",
    "num_c = np.sort(np.random.choice(num_time_series, 10))\n",
    "data_list = [ecog_x0, ecog_x1]\n",
    "label_list = ['Fail', 'Success']\n",
    "for ind in range(2):\n",
    "    plt.subplot(1, 2, ind + 1)\n",
    "    # num_c =range(num_time_series)\n",
    "    \n",
    "    for i in num_c:  # Plot the first four time series\n",
    "        time_series = data_list[ind][i, :]  # Replace with your actual time series data\n",
    "        label = f'Time Series {i+1}'\n",
    "        plt.plot(time, time_series, color=colors[i], label=label)\n",
    "    plt.xlabel('Timestaps')\n",
    "    if ind ==0:\n",
    "        plt.ylabel('Value')\n",
    "    plt.title('ECoG Plot Y: {}'.format(label_list[ind]))\n",
    "    plt.grid(True)\n",
    "# Customize the legend\n",
    "plt.legend([f'{i+1:03}' for i in num_c],\n",
    "           loc='best',\n",
    "           bbox_to_anchor=(1, 0.65),  # Adjust the position here (x, y)\n",
    "           fontsize='small')\n",
    "plt.savefig(\"ecog_plot_sample.png\")\n",
    "plt.show()"
   ]
  },
  {
   "cell_type": "code",
   "execution_count": null,
   "id": "5968254e-1d8e-456f-a823-7fb88586636d",
   "metadata": {},
   "outputs": [],
   "source": []
  }
 ],
 "metadata": {
  "kernelspec": {
   "display_name": "Python 3 (ipykernel)",
   "language": "python",
   "name": "python3"
  },
  "language_info": {
   "codemirror_mode": {
    "name": "ipython",
    "version": 3
   },
   "file_extension": ".py",
   "mimetype": "text/x-python",
   "name": "python",
   "nbconvert_exporter": "python",
   "pygments_lexer": "ipython3",
   "version": "3.9.5"
  }
 },
 "nbformat": 4,
 "nbformat_minor": 5
}
